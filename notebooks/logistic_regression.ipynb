{
 "cells": [
  {
   "cell_type": "markdown",
   "id": "d73d96d9-facb-4943-837b-0998872f4b98",
   "metadata": {},
   "source": [
    "# Classificador de Sentimentos para Reviews de Filmes (NLP)\n",
    "\n",
    "Este notebook detalha o processo de construção de um modelo de Machine Learning para classificar reviews do IMDb como 'positivas' ou 'negativas'. O projeto abrange desde a limpeza e pré-processamento do texto até o treinamento e avaliação comparativa de dois modelos de classificação: Regressão Logística e Random Forest."
   ]
  },
  {
   "cell_type": "code",
   "execution_count": 1,
   "id": "2632de73-575e-441e-a081-6ef6c239ad84",
   "metadata": {},
   "outputs": [],
   "source": [
    "import pandas as pd\n",
    "\n",
    "caminho_do_arquivo = '../data/raw/IMDB Dataset.csv'\n",
    "\n",
    "# Usa o pandas para ler o arquivo CSV e carregar em uma \"tabela\" chamada DataFrame\n",
    "df = pd.read_csv(caminho_do_arquivo)"
   ]
  },
  {
   "cell_type": "markdown",
   "id": "b9fae420-c477-4da2-9eb6-dddaf7c6c0fb",
   "metadata": {},
   "source": [
    "## Análise inicial"
   ]
  },
  {
   "cell_type": "code",
   "execution_count": 2,
   "id": "e2cfa896-cde1-4339-91e6-4b1c1de7a75b",
   "metadata": {},
   "outputs": [
    {
     "data": {
      "text/html": [
       "<div>\n",
       "<style scoped>\n",
       "    .dataframe tbody tr th:only-of-type {\n",
       "        vertical-align: middle;\n",
       "    }\n",
       "\n",
       "    .dataframe tbody tr th {\n",
       "        vertical-align: top;\n",
       "    }\n",
       "\n",
       "    .dataframe thead th {\n",
       "        text-align: right;\n",
       "    }\n",
       "</style>\n",
       "<table border=\"1\" class=\"dataframe\">\n",
       "  <thead>\n",
       "    <tr style=\"text-align: right;\">\n",
       "      <th></th>\n",
       "      <th>review</th>\n",
       "      <th>sentiment</th>\n",
       "    </tr>\n",
       "  </thead>\n",
       "  <tbody>\n",
       "    <tr>\n",
       "      <th>0</th>\n",
       "      <td>One of the other reviewers has mentioned that ...</td>\n",
       "      <td>positive</td>\n",
       "    </tr>\n",
       "    <tr>\n",
       "      <th>1</th>\n",
       "      <td>A wonderful little production. &lt;br /&gt;&lt;br /&gt;The...</td>\n",
       "      <td>positive</td>\n",
       "    </tr>\n",
       "    <tr>\n",
       "      <th>2</th>\n",
       "      <td>I thought this was a wonderful way to spend ti...</td>\n",
       "      <td>positive</td>\n",
       "    </tr>\n",
       "    <tr>\n",
       "      <th>3</th>\n",
       "      <td>Basically there's a family where a little boy ...</td>\n",
       "      <td>negative</td>\n",
       "    </tr>\n",
       "    <tr>\n",
       "      <th>4</th>\n",
       "      <td>Petter Mattei's \"Love in the Time of Money\" is...</td>\n",
       "      <td>positive</td>\n",
       "    </tr>\n",
       "  </tbody>\n",
       "</table>\n",
       "</div>"
      ],
      "text/plain": [
       "                                              review sentiment\n",
       "0  One of the other reviewers has mentioned that ...  positive\n",
       "1  A wonderful little production. <br /><br />The...  positive\n",
       "2  I thought this was a wonderful way to spend ti...  positive\n",
       "3  Basically there's a family where a little boy ...  negative\n",
       "4  Petter Mattei's \"Love in the Time of Money\" is...  positive"
      ]
     },
     "execution_count": 2,
     "metadata": {},
     "output_type": "execute_result"
    }
   ],
   "source": [
    "df.head()"
   ]
  },
  {
   "cell_type": "code",
   "execution_count": 3,
   "id": "cca0aecb-23dd-4fb7-9d2f-e2ccf205eef2",
   "metadata": {},
   "outputs": [
    {
     "name": "stdout",
     "output_type": "stream",
     "text": [
      "<class 'pandas.core.frame.DataFrame'>\n",
      "RangeIndex: 50000 entries, 0 to 49999\n",
      "Data columns (total 2 columns):\n",
      " #   Column     Non-Null Count  Dtype \n",
      "---  ------     --------------  ----- \n",
      " 0   review     50000 non-null  object\n",
      " 1   sentiment  50000 non-null  object\n",
      "dtypes: object(2)\n",
      "memory usage: 781.4+ KB\n"
     ]
    }
   ],
   "source": [
    "df.info()"
   ]
  },
  {
   "cell_type": "code",
   "execution_count": 4,
   "id": "7a3869a0-2522-4a8c-bd25-a1e26c136876",
   "metadata": {},
   "outputs": [
    {
     "data": {
      "text/plain": [
       "sentiment\n",
       "positive    25000\n",
       "negative    25000\n",
       "Name: count, dtype: int64"
      ]
     },
     "execution_count": 4,
     "metadata": {},
     "output_type": "execute_result"
    }
   ],
   "source": [
    "df['sentiment'].value_counts()"
   ]
  },
  {
   "cell_type": "markdown",
   "id": "3ccd5730-0b9b-4878-a999-f470d499d27e",
   "metadata": {},
   "source": [
    "**Conclusão da Análise:** O dataset está perfeitamente balanceado, com 25.000 amostras para cada classe. Isso é excelente, pois evita que o modelo se torne tendencioso para a classe majoritária durante o treinamento."
   ]
  },
  {
   "cell_type": "markdown",
   "id": "13b55603-f0c9-4e6b-a035-ab8a711a7675",
   "metadata": {},
   "source": [
    "## \"Texto sujo\""
   ]
  },
  {
   "cell_type": "code",
   "execution_count": 5,
   "id": "15fd42b1-1e01-420f-9658-2347eed19d78",
   "metadata": {},
   "outputs": [
    {
     "name": "stdout",
     "output_type": "stream",
     "text": [
      "One of the other reviewers has mentioned that after watching just 1 Oz episode you'll be hooked. They are right, as this is exactly what happened with me.<br /><br />The first thing that struck me about Oz was its brutality and unflinching scenes of violence, which set in right from the word GO. Trust me, this is not a show for the faint hearted or timid. This show pulls no punches with regards to drugs, sex or violence. Its is hardcore, in the classic use of the word.<br /><br />It is called OZ as that is the nickname given to the Oswald Maximum Security State Penitentary. It focuses mainly on Emerald City, an experimental section of the prison where all the cells have glass fronts and face inwards, so privacy is not high on the agenda. Em City is home to many..Aryans, Muslims, gangstas, Latinos, Christians, Italians, Irish and more....so scuffles, death stares, dodgy dealings and shady agreements are never far away.<br /><br />I would say the main appeal of the show is due to the fact that it goes where other shows wouldn't dare. Forget pretty pictures painted for mainstream audiences, forget charm, forget romance...OZ doesn't mess around. The first episode I ever saw struck me as so nasty it was surreal, I couldn't say I was ready for it, but as I watched more, I developed a taste for Oz, and got accustomed to the high levels of graphic violence. Not just violence, but injustice (crooked guards who'll be sold out for a nickel, inmates who'll kill on order and get away with it, well mannered, middle class inmates being turned into prison bitches due to their lack of street skills or prison experience) Watching Oz, you may become comfortable with what is uncomfortable viewing....thats if you can get in touch with your darker side.\n"
     ]
    }
   ],
   "source": [
    "# Pega o texto da primeira review (na linha de índice 0) e o imprime na tela\n",
    "print(df['review'][0])"
   ]
  },
  {
   "cell_type": "markdown",
   "id": "de7dd397-c259-49b5-814e-f222ff20d7f1",
   "metadata": {},
   "source": [
    "## 2. Pré-processamento e Limpeza dos Dados com expressões regulares\n",
    "\n",
    "Antes que um modelo de Machine Learning possa 'entender' o texto, precisamos limpá-lo e padronizá-lo. Nesta seção, removeremos ruídos como tags HTML, converteremos o texto para um formato uniforme (minúsculas) e o dividiremos em seus componentes básicos (tokens), removendo palavras comuns e sem significado de sentimento (stopwords)."
   ]
  },
  {
   "cell_type": "code",
   "execution_count": 6,
   "id": "b6da6e81-4d98-4a36-9519-243d176048aa",
   "metadata": {},
   "outputs": [
    {
     "name": "stdout",
     "output_type": "stream",
     "text": [
      "One of the other reviewers has mentioned that after watching just 1 Oz episode you'll be hooked. They are right, as this is exactly what happened with me.The first thing that struck me about Oz was its brutality and unflinching scenes of violence, which set in right from the word GO. Trust me, this is not a show for the faint hearted or timid. This show pulls no punches with regards to drugs, sex or violence. Its is hardcore, in the classic use of the word.It is called OZ as that is the nickname given to the Oswald Maximum Security State Penitentary. It focuses mainly on Emerald City, an experimental section of the prison where all the cells have glass fronts and face inwards, so privacy is not high on the agenda. Em City is home to many..Aryans, Muslims, gangstas, Latinos, Christians, Italians, Irish and more....so scuffles, death stares, dodgy dealings and shady agreements are never far away.I would say the main appeal of the show is due to the fact that it goes where other shows wouldn't dare. Forget pretty pictures painted for mainstream audiences, forget charm, forget romance...OZ doesn't mess around. The first episode I ever saw struck me as so nasty it was surreal, I couldn't say I was ready for it, but as I watched more, I developed a taste for Oz, and got accustomed to the high levels of graphic violence. Not just violence, but injustice (crooked guards who'll be sold out for a nickel, inmates who'll kill on order and get away with it, well mannered, middle class inmates being turned into prison bitches due to their lack of street skills or prison experience) Watching Oz, you may become comfortable with what is uncomfortable viewing....thats if you can get in touch with your darker side.\n"
     ]
    }
   ],
   "source": [
    "import re # A biblioteca de expressões regulares do Python\n",
    "\n",
    "# Função para limpar as tags HTML\n",
    "def limpar_html(texto):\n",
    "  # A expressão r'<.*?>' encontra qualquer coisa que comece com '<' e termine com '>'\n",
    "  return re.sub(r'<.*?>', '', texto)\n",
    "\n",
    "# Vamos criar uma nova coluna 'review_limpa' aplicando essa função em todas as as reviews\n",
    "# O .apply() diz ao Pandas: \"execute esta função para cada linha da coluna 'review'\"\n",
    "df['review_limpa'] = df['review'].apply(limpar_html)\n",
    "\n",
    "# Vamos ver o resultado na primeira review\n",
    "print(df['review_limpa'][0])"
   ]
  },
  {
   "cell_type": "markdown",
   "id": "4f662402-956d-4da9-aac4-e306cbd9172e",
   "metadata": {},
   "source": [
    "## Padronizando em letras minúsculas"
   ]
  },
  {
   "cell_type": "code",
   "execution_count": 7,
   "id": "b11ff694-0465-44c3-862f-2cc8d2d6dbe7",
   "metadata": {},
   "outputs": [
    {
     "name": "stdout",
     "output_type": "stream",
     "text": [
      "one of the other reviewers has mentioned that after watching just 1 oz episode you'll be hooked. they are right, as this is exactly what happened with me.the first thing that struck me about oz was its brutality and unflinching scenes of violence, which set in right from the word go. trust me, this is not a show for the faint hearted or timid. this show pulls no punches with regards to drugs, sex or violence. its is hardcore, in the classic use of the word.it is called oz as that is the nickname given to the oswald maximum security state penitentary. it focuses mainly on emerald city, an experimental section of the prison where all the cells have glass fronts and face inwards, so privacy is not high on the agenda. em city is home to many..aryans, muslims, gangstas, latinos, christians, italians, irish and more....so scuffles, death stares, dodgy dealings and shady agreements are never far away.i would say the main appeal of the show is due to the fact that it goes where other shows wouldn't dare. forget pretty pictures painted for mainstream audiences, forget charm, forget romance...oz doesn't mess around. the first episode i ever saw struck me as so nasty it was surreal, i couldn't say i was ready for it, but as i watched more, i developed a taste for oz, and got accustomed to the high levels of graphic violence. not just violence, but injustice (crooked guards who'll be sold out for a nickel, inmates who'll kill on order and get away with it, well mannered, middle class inmates being turned into prison bitches due to their lack of street skills or prison experience) watching oz, you may become comfortable with what is uncomfortable viewing....thats if you can get in touch with your darker side.\n"
     ]
    }
   ],
   "source": [
    "df['review_limpa'] = df['review_limpa'].str.lower()\n",
    "\n",
    "# Vamos ver o resultado novamente\n",
    "print(df['review_limpa'][0])"
   ]
  },
  {
   "cell_type": "markdown",
   "id": "cb184fe2-a1ec-473c-8a8a-ce853b35c8ff",
   "metadata": {},
   "source": [
    "## Processo de tokenização\n",
    "\n",
    "Processando uma lista de palavras individuais em vez de um texto completo"
   ]
  },
  {
   "cell_type": "code",
   "execution_count": 8,
   "id": "8d2e94cb-0711-481e-acc8-7318d3d53ab9",
   "metadata": {
    "scrolled": true
   },
   "outputs": [
    {
     "name": "stderr",
     "output_type": "stream",
     "text": [
      "[nltk_data] Downloading package punkt to /home/felipe/nltk_data...\n",
      "[nltk_data]   Package punkt is already up-to-date!\n",
      "[nltk_data] Downloading package punkt_tab to /home/felipe/nltk_data...\n",
      "[nltk_data]   Package punkt_tab is already up-to-date!\n"
     ]
    },
    {
     "data": {
      "text/plain": [
       "True"
      ]
     },
     "execution_count": 8,
     "metadata": {},
     "output_type": "execute_result"
    }
   ],
   "source": [
    "import nltk\n",
    "from nltk.tokenize import word_tokenize\n",
    "\n",
    "# Baixando os 'dicionários' que o NLTK precisa para saber como tokenizar\n",
    "nltk.download('punkt')\n",
    "nltk.download('punkt_tab')\n",
    "\n"
   ]
  },
  {
   "cell_type": "code",
   "execution_count": 9,
   "id": "b54a7009-a854-44e4-891c-260858b67eb8",
   "metadata": {},
   "outputs": [
    {
     "data": {
      "text/html": [
       "<div>\n",
       "<style scoped>\n",
       "    .dataframe tbody tr th:only-of-type {\n",
       "        vertical-align: middle;\n",
       "    }\n",
       "\n",
       "    .dataframe tbody tr th {\n",
       "        vertical-align: top;\n",
       "    }\n",
       "\n",
       "    .dataframe thead th {\n",
       "        text-align: right;\n",
       "    }\n",
       "</style>\n",
       "<table border=\"1\" class=\"dataframe\">\n",
       "  <thead>\n",
       "    <tr style=\"text-align: right;\">\n",
       "      <th></th>\n",
       "      <th>review</th>\n",
       "      <th>sentiment</th>\n",
       "      <th>review_limpa</th>\n",
       "      <th>tokens</th>\n",
       "    </tr>\n",
       "  </thead>\n",
       "  <tbody>\n",
       "    <tr>\n",
       "      <th>0</th>\n",
       "      <td>One of the other reviewers has mentioned that ...</td>\n",
       "      <td>positive</td>\n",
       "      <td>one of the other reviewers has mentioned that ...</td>\n",
       "      <td>[one, of, the, other, reviewers, has, mentione...</td>\n",
       "    </tr>\n",
       "    <tr>\n",
       "      <th>1</th>\n",
       "      <td>A wonderful little production. &lt;br /&gt;&lt;br /&gt;The...</td>\n",
       "      <td>positive</td>\n",
       "      <td>a wonderful little production. the filming tec...</td>\n",
       "      <td>[a, wonderful, little, production, ., the, fil...</td>\n",
       "    </tr>\n",
       "    <tr>\n",
       "      <th>2</th>\n",
       "      <td>I thought this was a wonderful way to spend ti...</td>\n",
       "      <td>positive</td>\n",
       "      <td>i thought this was a wonderful way to spend ti...</td>\n",
       "      <td>[i, thought, this, was, a, wonderful, way, to,...</td>\n",
       "    </tr>\n",
       "    <tr>\n",
       "      <th>3</th>\n",
       "      <td>Basically there's a family where a little boy ...</td>\n",
       "      <td>negative</td>\n",
       "      <td>basically there's a family where a little boy ...</td>\n",
       "      <td>[basically, there, 's, a, family, where, a, li...</td>\n",
       "    </tr>\n",
       "    <tr>\n",
       "      <th>4</th>\n",
       "      <td>Petter Mattei's \"Love in the Time of Money\" is...</td>\n",
       "      <td>positive</td>\n",
       "      <td>petter mattei's \"love in the time of money\" is...</td>\n",
       "      <td>[petter, mattei, 's, ``, love, in, the, time, ...</td>\n",
       "    </tr>\n",
       "  </tbody>\n",
       "</table>\n",
       "</div>"
      ],
      "text/plain": [
       "                                              review sentiment  \\\n",
       "0  One of the other reviewers has mentioned that ...  positive   \n",
       "1  A wonderful little production. <br /><br />The...  positive   \n",
       "2  I thought this was a wonderful way to spend ti...  positive   \n",
       "3  Basically there's a family where a little boy ...  negative   \n",
       "4  Petter Mattei's \"Love in the Time of Money\" is...  positive   \n",
       "\n",
       "                                        review_limpa  \\\n",
       "0  one of the other reviewers has mentioned that ...   \n",
       "1  a wonderful little production. the filming tec...   \n",
       "2  i thought this was a wonderful way to spend ti...   \n",
       "3  basically there's a family where a little boy ...   \n",
       "4  petter mattei's \"love in the time of money\" is...   \n",
       "\n",
       "                                              tokens  \n",
       "0  [one, of, the, other, reviewers, has, mentione...  \n",
       "1  [a, wonderful, little, production, ., the, fil...  \n",
       "2  [i, thought, this, was, a, wonderful, way, to,...  \n",
       "3  [basically, there, 's, a, family, where, a, li...  \n",
       "4  [petter, mattei, 's, ``, love, in, the, time, ...  "
      ]
     },
     "execution_count": 9,
     "metadata": {},
     "output_type": "execute_result"
    }
   ],
   "source": [
    "# Criamos uma nova coluna 'tokens', aplicando a tokenização\n",
    "df['tokens'] = df['review_limpa'].apply(word_tokenize)\n",
    "\n",
    "df.head()"
   ]
  },
  {
   "cell_type": "markdown",
   "id": "b84f7881-2850-4226-9674-75126fde2cca",
   "metadata": {},
   "source": [
    "## Removendo também as stopwords"
   ]
  },
  {
   "cell_type": "code",
   "execution_count": 10,
   "id": "1e84d937-0a9b-4020-bdc2-a5426c899df7",
   "metadata": {},
   "outputs": [
    {
     "name": "stderr",
     "output_type": "stream",
     "text": [
      "[nltk_data] Downloading package stopwords to /home/felipe/nltk_data...\n",
      "[nltk_data]   Package stopwords is already up-to-date!\n"
     ]
    },
    {
     "data": {
      "text/html": [
       "<div>\n",
       "<style scoped>\n",
       "    .dataframe tbody tr th:only-of-type {\n",
       "        vertical-align: middle;\n",
       "    }\n",
       "\n",
       "    .dataframe tbody tr th {\n",
       "        vertical-align: top;\n",
       "    }\n",
       "\n",
       "    .dataframe thead th {\n",
       "        text-align: right;\n",
       "    }\n",
       "</style>\n",
       "<table border=\"1\" class=\"dataframe\">\n",
       "  <thead>\n",
       "    <tr style=\"text-align: right;\">\n",
       "      <th></th>\n",
       "      <th>review</th>\n",
       "      <th>sentiment</th>\n",
       "      <th>review_limpa</th>\n",
       "      <th>tokens</th>\n",
       "      <th>tokens_limpos</th>\n",
       "    </tr>\n",
       "  </thead>\n",
       "  <tbody>\n",
       "    <tr>\n",
       "      <th>0</th>\n",
       "      <td>One of the other reviewers has mentioned that ...</td>\n",
       "      <td>positive</td>\n",
       "      <td>one of the other reviewers has mentioned that ...</td>\n",
       "      <td>[one, of, the, other, reviewers, has, mentione...</td>\n",
       "      <td>[one, reviewers, mentioned, watching, oz, epis...</td>\n",
       "    </tr>\n",
       "    <tr>\n",
       "      <th>1</th>\n",
       "      <td>A wonderful little production. &lt;br /&gt;&lt;br /&gt;The...</td>\n",
       "      <td>positive</td>\n",
       "      <td>a wonderful little production. the filming tec...</td>\n",
       "      <td>[a, wonderful, little, production, ., the, fil...</td>\n",
       "      <td>[wonderful, little, production, filming, techn...</td>\n",
       "    </tr>\n",
       "    <tr>\n",
       "      <th>2</th>\n",
       "      <td>I thought this was a wonderful way to spend ti...</td>\n",
       "      <td>positive</td>\n",
       "      <td>i thought this was a wonderful way to spend ti...</td>\n",
       "      <td>[i, thought, this, was, a, wonderful, way, to,...</td>\n",
       "      <td>[thought, wonderful, way, spend, time, hot, su...</td>\n",
       "    </tr>\n",
       "    <tr>\n",
       "      <th>3</th>\n",
       "      <td>Basically there's a family where a little boy ...</td>\n",
       "      <td>negative</td>\n",
       "      <td>basically there's a family where a little boy ...</td>\n",
       "      <td>[basically, there, 's, a, family, where, a, li...</td>\n",
       "      <td>[basically, family, little, boy, jake, thinks,...</td>\n",
       "    </tr>\n",
       "    <tr>\n",
       "      <th>4</th>\n",
       "      <td>Petter Mattei's \"Love in the Time of Money\" is...</td>\n",
       "      <td>positive</td>\n",
       "      <td>petter mattei's \"love in the time of money\" is...</td>\n",
       "      <td>[petter, mattei, 's, ``, love, in, the, time, ...</td>\n",
       "      <td>[petter, mattei, love, time, money, visually, ...</td>\n",
       "    </tr>\n",
       "  </tbody>\n",
       "</table>\n",
       "</div>"
      ],
      "text/plain": [
       "                                              review sentiment  \\\n",
       "0  One of the other reviewers has mentioned that ...  positive   \n",
       "1  A wonderful little production. <br /><br />The...  positive   \n",
       "2  I thought this was a wonderful way to spend ti...  positive   \n",
       "3  Basically there's a family where a little boy ...  negative   \n",
       "4  Petter Mattei's \"Love in the Time of Money\" is...  positive   \n",
       "\n",
       "                                        review_limpa  \\\n",
       "0  one of the other reviewers has mentioned that ...   \n",
       "1  a wonderful little production. the filming tec...   \n",
       "2  i thought this was a wonderful way to spend ti...   \n",
       "3  basically there's a family where a little boy ...   \n",
       "4  petter mattei's \"love in the time of money\" is...   \n",
       "\n",
       "                                              tokens  \\\n",
       "0  [one, of, the, other, reviewers, has, mentione...   \n",
       "1  [a, wonderful, little, production, ., the, fil...   \n",
       "2  [i, thought, this, was, a, wonderful, way, to,...   \n",
       "3  [basically, there, 's, a, family, where, a, li...   \n",
       "4  [petter, mattei, 's, ``, love, in, the, time, ...   \n",
       "\n",
       "                                       tokens_limpos  \n",
       "0  [one, reviewers, mentioned, watching, oz, epis...  \n",
       "1  [wonderful, little, production, filming, techn...  \n",
       "2  [thought, wonderful, way, spend, time, hot, su...  \n",
       "3  [basically, family, little, boy, jake, thinks,...  \n",
       "4  [petter, mattei, love, time, money, visually, ...  "
      ]
     },
     "execution_count": 10,
     "metadata": {},
     "output_type": "execute_result"
    }
   ],
   "source": [
    "from nltk.corpus import stopwords\n",
    "\n",
    "# Baixando a lista de stopwords em inglês\n",
    "nltk.download('stopwords')\n",
    "\n",
    "# Pega a lista de stopwords em inglês\n",
    "# Usamos set() para tornar a busca pelas palavras muito mais rápida\n",
    "stop_words = set(stopwords.words('english'))\n",
    "\n",
    "# Função para remover as stopwords de uma lista de tokens\n",
    "def remover_stopwords(tokens):\n",
    "  return [palavra for palavra in tokens if palavra.isalpha() and palavra not in stop_words]\n",
    "\n",
    "# Criamos nossa coluna final de tokens limpos\n",
    "df['tokens_limpos'] = df['tokens'].apply(remover_stopwords)\n",
    "\n",
    "# Vamos ver o resultado final\n",
    "df.head()"
   ]
  },
  {
   "cell_type": "markdown",
   "id": "bb98b56b-928f-4b3d-97c6-16633cc4a819",
   "metadata": {},
   "source": [
    "## Juntando os Tokens de Volta para vetorização posterior"
   ]
  },
  {
   "cell_type": "code",
   "execution_count": 11,
   "id": "229a039a-8d77-4bdc-a117-c8a5fe9be0bd",
   "metadata": {},
   "outputs": [
    {
     "data": {
      "text/html": [
       "<div>\n",
       "<style scoped>\n",
       "    .dataframe tbody tr th:only-of-type {\n",
       "        vertical-align: middle;\n",
       "    }\n",
       "\n",
       "    .dataframe tbody tr th {\n",
       "        vertical-align: top;\n",
       "    }\n",
       "\n",
       "    .dataframe thead th {\n",
       "        text-align: right;\n",
       "    }\n",
       "</style>\n",
       "<table border=\"1\" class=\"dataframe\">\n",
       "  <thead>\n",
       "    <tr style=\"text-align: right;\">\n",
       "      <th></th>\n",
       "      <th>review</th>\n",
       "      <th>review_final</th>\n",
       "    </tr>\n",
       "  </thead>\n",
       "  <tbody>\n",
       "    <tr>\n",
       "      <th>0</th>\n",
       "      <td>One of the other reviewers has mentioned that ...</td>\n",
       "      <td>one reviewers mentioned watching oz episode ho...</td>\n",
       "    </tr>\n",
       "    <tr>\n",
       "      <th>1</th>\n",
       "      <td>A wonderful little production. &lt;br /&gt;&lt;br /&gt;The...</td>\n",
       "      <td>wonderful little production filming technique ...</td>\n",
       "    </tr>\n",
       "    <tr>\n",
       "      <th>2</th>\n",
       "      <td>I thought this was a wonderful way to spend ti...</td>\n",
       "      <td>thought wonderful way spend time hot summer we...</td>\n",
       "    </tr>\n",
       "    <tr>\n",
       "      <th>3</th>\n",
       "      <td>Basically there's a family where a little boy ...</td>\n",
       "      <td>basically family little boy jake thinks zombie...</td>\n",
       "    </tr>\n",
       "    <tr>\n",
       "      <th>4</th>\n",
       "      <td>Petter Mattei's \"Love in the Time of Money\" is...</td>\n",
       "      <td>petter mattei love time money visually stunnin...</td>\n",
       "    </tr>\n",
       "  </tbody>\n",
       "</table>\n",
       "</div>"
      ],
      "text/plain": [
       "                                              review  \\\n",
       "0  One of the other reviewers has mentioned that ...   \n",
       "1  A wonderful little production. <br /><br />The...   \n",
       "2  I thought this was a wonderful way to spend ti...   \n",
       "3  Basically there's a family where a little boy ...   \n",
       "4  Petter Mattei's \"Love in the Time of Money\" is...   \n",
       "\n",
       "                                        review_final  \n",
       "0  one reviewers mentioned watching oz episode ho...  \n",
       "1  wonderful little production filming technique ...  \n",
       "2  thought wonderful way spend time hot summer we...  \n",
       "3  basically family little boy jake thinks zombie...  \n",
       "4  petter mattei love time money visually stunnin...  "
      ]
     },
     "execution_count": 11,
     "metadata": {},
     "output_type": "execute_result"
    }
   ],
   "source": [
    "# Função para juntar uma lista de tokens em uma string única, separada por espaços\n",
    "def juntar_tokens(tokens):\n",
    "  return ' '.join(tokens)\n",
    "\n",
    "# Cria uma nova coluna com o texto final, pronto para a vetorização\n",
    "df['review_final'] = df['tokens_limpos'].apply(juntar_tokens)\n",
    "\n",
    "# Uma olhada no antes e depois\n",
    "df[['review', 'review_final']].head()"
   ]
  },
  {
   "cell_type": "markdown",
   "id": "72a645aa-791c-4884-912c-b798be552771",
   "metadata": {},
   "source": [
    "## Dividindo em treino e teste"
   ]
  },
  {
   "cell_type": "code",
   "execution_count": 12,
   "id": "3b58fb79-0f72-4b17-aeaf-d0216d7d921c",
   "metadata": {},
   "outputs": [],
   "source": [
    "from sklearn.model_selection import train_test_split\n",
    "\n",
    "# Features\n",
    "X = df['review_final']\n",
    "# Target\n",
    "y = df['sentiment']\n",
    "\n",
    "# 80% para treino, 20% para teste\n",
    "X_train, X_test, y_train, y_test = train_test_split(\n",
    "    X, y, \n",
    "    test_size=0.2,       # 20% dos dados vão para teste\n",
    "    random_state=42,     # Garante que a divisão seja sempre a mesma, para reprodutibilidade\n",
    "    stratify=y           # Garante que a proporção de reviews positivas/negativas seja a mesma em treino e teste\n",
    ")"
   ]
  },
  {
   "cell_type": "markdown",
   "id": "12e82a8c-3c4c-44e1-870c-e943035c4889",
   "metadata": {},
   "source": [
    "## Aplicando o Vetorizador TF-IDF"
   ]
  },
  {
   "cell_type": "code",
   "execution_count": 13,
   "id": "b3852ec3-338e-4bcc-82ea-4c949b226fa7",
   "metadata": {},
   "outputs": [],
   "source": [
    "from sklearn.feature_extraction.text import TfidfVectorizer\n",
    "\n",
    "# 1. Cria o \"tradutor\" (vetorizador)\n",
    "# max_features=5000 diz a ele para considerar apenas as 5000 palavras mais importantes\n",
    "vectorizer = TfidfVectorizer(max_features=5000)\n",
    "\n",
    "# 2. \"Aprende\" o vocabulário e TRADUZ os dados de treino\n",
    "# .fit_transform() faz duas coisas: 'fit' aprende o vocabulário e 'transform' o aplica\n",
    "X_train_tfidf = vectorizer.fit_transform(X_train)\n",
    "\n",
    "# 3. Apenas TRADUZ os dados de teste com o vocabulário que já aprendeu\n",
    "X_test_tfidf = vectorizer.transform(X_test)"
   ]
  },
  {
   "cell_type": "markdown",
   "id": "eff06e02-f56d-47be-bc77-17c7dd178ef4",
   "metadata": {},
   "source": [
    "## Treinando inicialmente o modelo de regressão logistica "
   ]
  },
  {
   "cell_type": "code",
   "execution_count": 14,
   "id": "95fc952d-ef8c-4454-a5fd-6b59f4ce7434",
   "metadata": {},
   "outputs": [
    {
     "name": "stdout",
     "output_type": "stream",
     "text": [
      "Iniciando o treinamento do modelo...\n",
      "Modelo treinado com sucesso!\n"
     ]
    }
   ],
   "source": [
    "from sklearn.linear_model import LogisticRegression\n",
    "\n",
    "# 1. Cria uma instância do nosso \"aluno\" (o modelo)\n",
    "modelo_logreg = LogisticRegression(random_state=42, max_iter=1000)\n",
    "\n",
    "# 2. Treina o modelo com os dados de treino. O .fit() é o comando para \"aprender\".\n",
    "print(\"Iniciando o treinamento do modelo...\")\n",
    "modelo_logreg.fit(X_train_tfidf, y_train)\n",
    "print(\"Modelo treinado com sucesso!\")"
   ]
  },
  {
   "cell_type": "markdown",
   "id": "ba627ad4-b844-4d19-ae06-40690644a24f",
   "metadata": {},
   "source": [
    "## Fazendo previsões"
   ]
  },
  {
   "cell_type": "code",
   "execution_count": 15,
   "id": "83119459-4611-4803-8c33-331c1944f289",
   "metadata": {},
   "outputs": [
    {
     "name": "stdout",
     "output_type": "stream",
     "text": [
      "As 10 primeiras previsões: ['negative' 'positive' 'positive' 'negative' 'negative' 'negative'\n",
      " 'negative' 'negative' 'negative' 'negative']\n",
      "As 10 respostas reais:    ['negative' 'negative' 'positive' 'negative' 'negative' 'negative'\n",
      " 'negative' 'negative' 'negative' 'negative']\n"
     ]
    }
   ],
   "source": [
    "# Usa o modelo treinado para prever os sentimentos dos dados de teste\n",
    "y_pred = modelo_logreg.predict(X_test_tfidf)\n",
    "\n",
    "# Vamos comparar as 10 primeiras previsões do modelo com as 10 respostas reais\n",
    "print(\"As 10 primeiras previsões:\", y_pred[:10])\n",
    "print(\"As 10 respostas reais:   \", y_test[:10].values)"
   ]
  },
  {
   "cell_type": "markdown",
   "id": "614b63bc-ae11-46fa-89c4-f5923952bda4",
   "metadata": {},
   "source": [
    "## Avaliando o desempenho"
   ]
  },
  {
   "cell_type": "code",
   "execution_count": 16,
   "id": "40c6494e-bcc9-4fe6-9abd-1a53ef76b064",
   "metadata": {},
   "outputs": [
    {
     "name": "stdout",
     "output_type": "stream",
     "text": [
      "Acurácia do modelo: 88.87%\n"
     ]
    }
   ],
   "source": [
    "from sklearn.metrics import accuracy_score\n",
    "\n",
    "accuracy = accuracy_score(y_test, y_pred)\n",
    "print(f\"Acurácia do modelo: {accuracy * 100:.2f}%\")"
   ]
  },
  {
   "cell_type": "markdown",
   "id": "48f581e3-3332-4c9d-9a4d-1868cacedfc3",
   "metadata": {},
   "source": [
    "## Relatório de classificação detalhado"
   ]
  },
  {
   "cell_type": "code",
   "execution_count": 17,
   "id": "2213ee01-81ba-4167-8175-1d39dc4c1223",
   "metadata": {},
   "outputs": [
    {
     "name": "stdout",
     "output_type": "stream",
     "text": [
      "              precision    recall  f1-score   support\n",
      "\n",
      "    negative       0.90      0.88      0.89      5000\n",
      "    positive       0.88      0.90      0.89      5000\n",
      "\n",
      "    accuracy                           0.89     10000\n",
      "   macro avg       0.89      0.89      0.89     10000\n",
      "weighted avg       0.89      0.89      0.89     10000\n",
      "\n"
     ]
    }
   ],
   "source": [
    "from sklearn.metrics import classification_report\n",
    "\n",
    "print(classification_report(y_test, y_pred))"
   ]
  },
  {
   "cell_type": "markdown",
   "id": "73bc52e7-0adb-403b-a869-d3a0056f8f83",
   "metadata": {},
   "source": [
    "## Matriz de confusão"
   ]
  },
  {
   "cell_type": "code",
   "execution_count": 18,
   "id": "748fc68f-d9ce-4837-957f-21afa5681a20",
   "metadata": {},
   "outputs": [
    {
     "data": {
      "image/png": "[encoded data removed]",
      "text/plain": [
       "<Figure size 800x600 with 2 Axes>"
      ]
     },
     "metadata": {},
     "output_type": "display_data"
    }
   ],
   "source": [
    "import matplotlib.pyplot as plt\n",
    "import seaborn as sns\n",
    "from sklearn.metrics import confusion_matrix\n",
    "\n",
    "# Calcula a matriz de confusão\n",
    "cm = confusion_matrix(y_test, y_pred)\n",
    "\n",
    "# Plota a matriz de confusão usando um heatmap para melhor visualização\n",
    "plt.figure(figsize=(8, 6))\n",
    "sns.heatmap(cm, annot=True, fmt='d', cmap='Blues', xticklabels=['Negativo', 'Positivo'], yticklabels=['Negativo', 'Positivo'])\n",
    "plt.xlabel('Previsão do Modelo')\n",
    "plt.ylabel('Valor Real')\n",
    "plt.title('Matriz de Confusão')\n",
    "plt.show()"
   ]
  },
  {
   "cell_type": "markdown",
   "id": "23386e2f-cada-4efb-8d91-478ba9ab9186",
   "metadata": {},
   "source": [
    "## Treinando um modelo mais complexo também\n",
    "\n",
    "Os resultados da regressão logística se mostraram satisfatórios, confirmando que os dados estão bem limpos e preparados\n",
    "Mas ainda sim, vou experimentar um modelo mais complexo de Random Forest"
   ]
  },
  {
   "cell_type": "code",
   "execution_count": 19,
   "id": "99b8382c-8db7-4646-bf92-fadc6592f6f8",
   "metadata": {},
   "outputs": [
    {
     "name": "stdout",
     "output_type": "stream",
     "text": [
      "Iniciando o treinamento do Random Forest... (isso pode levar alguns minutos, por favor aguarde)\n",
      "Modelo Random Forest treinado com sucesso!\n"
     ]
    }
   ],
   "source": [
    "from sklearn.ensemble import RandomForestClassifier\n",
    "\n",
    "# 1. Cria uma instância do nosso comitê de especialistas\n",
    "# n_estimators=100 significa que teremos 100 \"árvores\" no comitê\n",
    "# n_jobs=-1 usa todos os processadores para acelerar o treino\n",
    "modelo_rf = RandomForestClassifier(n_estimators=100, random_state=42, n_jobs=-1)\n",
    "\n",
    "# 2. Treina o modelo com os mesmos dados de treino\n",
    "print(\"Iniciando o treinamento do Random Forest... (isso pode levar alguns minutos, por favor aguarde)\")\n",
    "modelo_rf.fit(X_train_tfidf, y_train)\n",
    "print(\"Modelo Random Forest treinado com sucesso!\")"
   ]
  },
  {
   "cell_type": "markdown",
   "id": "83068313-ad9f-41d8-bc1c-13aabc71ba1e",
   "metadata": {},
   "source": [
    "## Avaliando o Random Forest"
   ]
  },
  {
   "cell_type": "code",
   "execution_count": 20,
   "id": "97e514f5-5a4b-4cff-a48e-852cc3233595",
   "metadata": {},
   "outputs": [
    {
     "name": "stdout",
     "output_type": "stream",
     "text": [
      "Acurácia do Random Forest: 84.98%\n",
      "\n",
      "Relatório de Classificação do Random Forest:\n",
      "              precision    recall  f1-score   support\n",
      "\n",
      "    negative       0.84      0.86      0.85      5000\n",
      "    positive       0.86      0.84      0.85      5000\n",
      "\n",
      "    accuracy                           0.85     10000\n",
      "   macro avg       0.85      0.85      0.85     10000\n",
      "weighted avg       0.85      0.85      0.85     10000\n",
      "\n"
     ]
    }
   ],
   "source": [
    "# Faz as previsões com o novo modelo\n",
    "y_pred_rf = modelo_rf.predict(X_test_tfidf)\n",
    "\n",
    "# Calcula a acurácia\n",
    "accuracy_rf = accuracy_score(y_test, y_pred_rf)\n",
    "print(f\"Acurácia do Random Forest: {accuracy_rf * 100:.2f}%\")\n",
    "\n",
    "# Imprime o relatório de classificação completo\n",
    "print(\"\\nRelatório de Classificação do Random Forest:\")\n",
    "print(classification_report(y_test, y_pred_rf))"
   ]
  },
  {
   "cell_type": "markdown",
   "id": "1fe7277e-b7b3-43c3-bf26-44bb6e5188d5",
   "metadata": {},
   "source": [
    "## Comparação\n",
    "\n",
    "**Conclusão da Modelagem:** A Regressão Logística (88.87%) superou o Random Forest (84.98%) em acurácia e foi significativamente mais rápida para treinar. \n",
    "\n",
    "Apesar do Random Forest ser mais complexo, isso não necessariamente induz melhor desempenho para este caso\n",
    "Além disso, um modelo mais rápido e simples como regressão logística, tendo um desempenho excelente e até superior ao de modelos complexos é certamente a melhor escolha em um projeto como este.\n",
    "\n"
   ]
  },
  {
   "cell_type": "markdown",
   "id": "19f4bdfc-4edd-4ce6-b535-0f3711ab0e1f",
   "metadata": {},
   "source": [
    "## Salvando o modelo"
   ]
  },
  {
   "cell_type": "code",
   "execution_count": 21,
   "id": "59f894fb-c024-4adc-9d1e-e889647fa145",
   "metadata": {},
   "outputs": [
    {
     "name": "stdout",
     "output_type": "stream",
     "text": [
      "Modelo salvo em: ../models/classificador_sentimento_logreg.pkl\n",
      "Vetorizador salvo em: ../models/vetorizador_tfidf.pkl\n"
     ]
    }
   ],
   "source": [
    "import joblib\n",
    "import os\n",
    "\n",
    "caminho_pasta_modelos = '../models'\n",
    "os.makedirs(caminho_pasta_modelos, exist_ok=True)\n",
    "\n",
    "caminho_modelo = os.path.join(caminho_pasta_modelos, 'classificador_sentimento_logreg.pkl')\n",
    "joblib.dump(modelo_logreg, caminho_modelo)\n",
    "\n",
    "caminho_vetorizador = os.path.join(caminho_pasta_modelos, 'vetorizador_tfidf.pkl')\n",
    "joblib.dump(vectorizer, caminho_vetorizador)\n",
    "\n",
    "print(f\"Modelo salvo em: {caminho_modelo}\")\n",
    "print(f\"Vetorizador salvo em: {caminho_vetorizador}\")"
   ]
  },
  {
   "cell_type": "code",
   "execution_count": 22,
   "id": "12db7f30-eebf-4fb8-a5d2-46c685c15714",
   "metadata": {},
   "outputs": [
    {
     "name": "stderr",
     "output_type": "stream",
     "text": [
      "/tmp/ipykernel_41947/2612170341.py:28: FutureWarning: \n",
      "\n",
      "Passing `palette` without assigning `hue` is deprecated and will be removed in v0.14.0. Assign the `y` variable to `hue` and set `legend=False` for the same effect.\n",
      "\n",
      "  sns.barplot(x='Coeficiente', y='Palavra', data=top_palavras, palette='viridis')\n"
     ]
    },
    {
     "data": {
      "image/png": "[encoded data removed]",
      "text/plain": [
       "<Figure size 1200x800 with 1 Axes>"
      ]
     },
     "metadata": {},
     "output_type": "display_data"
    }
   ],
   "source": [
    "import numpy as np\n",
    "\n",
    "# Pega os nomes das features (as 5000 palavras) do vetorizador\n",
    "feature_names = np.array(vectorizer.get_feature_names_out())\n",
    "\n",
    "# Pega os coeficientes (pesos) do modelo de Regressão Logística\n",
    "# O modelo tem um coeficiente para cada palavra\n",
    "coeficientes = modelo_logreg.coef_[0]\n",
    "\n",
    "# Cria um DataFrame do pandas para visualizar os pesos\n",
    "df_coef = pd.DataFrame(data={'Palavra': feature_names, 'Coeficiente': coeficientes})\n",
    "\n",
    "# Ordena o DataFrame pelos coeficientes\n",
    "df_coef_sorted = df_coef.sort_values(by='Coeficiente', ascending=False)\n",
    "\n",
    "# --- Plotando o gráfico ---\n",
    "plt.figure(figsize=(12, 8))\n",
    "\n",
    "# Pega as 15 palavras com os maiores pesos (mais positivas)\n",
    "top_positivas = df_coef_sorted.head(15)\n",
    "# Pega as 15 palavras com os menores pesos (mais negativas)\n",
    "top_negativas = df_coef_sorted.tail(15)\n",
    "\n",
    "# Concatena as duas para plotar\n",
    "top_palavras = pd.concat([top_positivas, top_negativas])\n",
    "\n",
    "# Plota o gráfico de barras\n",
    "sns.barplot(x='Coeficiente', y='Palavra', data=top_palavras, palette='viridis')\n",
    "plt.title('Importância das Palavras para o Sentimento (Regressão Logística)')\n",
    "plt.xlabel('Peso do Coeficiente')\n",
    "plt.ylabel('Palavra')\n",
    "plt.show()"
   ]
  }
 ],
 "metadata": {
  "kernelspec": {
   "display_name": "Python 3 (ipykernel)",
   "language": "python",
   "name": "python3"
  },
  "language_info": {
   "codemirror_mode": {
    "name": "ipython",
    "version": 3
   },
   "file_extension": ".py",
   "mimetype": "text/x-python",
   "name": "python",
   "nbconvert_exporter": "python",
   "pygments_lexer": "ipython3",
   "version": "3.12.3"
  }
 },
 "nbformat": 4,
 "nbformat_minor": 5
}
